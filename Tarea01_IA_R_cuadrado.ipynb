{
  "nbformat": 4,
  "nbformat_minor": 0,
  "metadata": {
    "colab": {
      "name": "Tarea01_IA_R_cuadrado.ipynb",
      "provenance": [],
      "authorship_tag": "ABX9TyO6duUElAyQsZ2UC2U1j/T1",
      "include_colab_link": true
    },
    "kernelspec": {
      "name": "python3",
      "display_name": "Python 3"
    },
    "language_info": {
      "name": "python"
    }
  },
  "cells": [
    {
      "cell_type": "markdown",
      "metadata": {
        "id": "view-in-github",
        "colab_type": "text"
      },
      "source": [
        "<a href=\"https://colab.research.google.com/github/javieribanez17/R_cuadrado/blob/main/Tarea01_IA_R_cuadrado.ipynb\" target=\"_parent\"><img src=\"https://colab.research.google.com/assets/colab-badge.svg\" alt=\"Open In Colab\"/></a>"
      ]
    },
    {
      "cell_type": "markdown",
      "metadata": {
        "id": "Ix_j0VK-fNTT"
      },
      "source": [
        "# **Tarea 04 de IA** \n",
        "Hallar el R cuadrado a los datos de resistencia obtenidos a partir de una hipótesis lineal de 2 parámetros."
      ]
    },
    {
      "cell_type": "markdown",
      "metadata": {
        "id": "z1OOiqfqY9C2"
      },
      "source": [
        "#Parámetros tetha"
      ]
    },
    {
      "cell_type": "code",
      "metadata": {
        "id": "Fu6CwXUxfe1e"
      },
      "source": [
        "#Importación de librerias\n",
        "import numpy as np\n",
        "import matplotlib.pyplot as plt\n",
        "from sklearn.metrics import r2_score\n",
        "import time\n",
        "import pandas as pd"
      ],
      "execution_count": 71,
      "outputs": []
    },
    {
      "cell_type": "code",
      "metadata": {
        "id": "HgBH7tXtf5i2"
      },
      "source": [
        "#Datos de voltaje\n",
        "Caracteristicas=np.array([1,1.5,2,2.5,3,3.5,4,4.5,5,5.5,6])\n",
        "#Datos de corriente\n",
        "Etiquetas=np.array([0.169610272,0.283395813,0.386358738,0.470227872,0.433281294,0.600267648,0.73833898,0.79031502,0.877464268,0.843564462,0.964438917])"
      ],
      "execution_count": 72,
      "outputs": []
    },
    {
      "cell_type": "code",
      "metadata": {
        "id": "MQdmOO8YJrTl"
      },
      "source": [
        "#Caracteristicas como x y etiquetas como y\n",
        "x1=Caracteristicas;\n",
        "x0=np.ones(x1.shape)\n",
        "y=Etiquetas;\n",
        "#Transformación de vectores columna\n",
        "X=np.matrix([x0,x1]).T\n",
        "Y=np.matrix([y]).T"
      ],
      "execution_count": 73,
      "outputs": []
    },
    {
      "cell_type": "code",
      "metadata": {
        "colab": {
          "base_uri": "https://localhost:8080/",
          "height": 300
        },
        "id": "OJt6sq66Ridp",
        "outputId": "9d610c83-b17b-4fd1-9d78-50d3eaa44e73"
      },
      "source": [
        "#Valores de tetha\n",
        "Theta=(np.linalg.inv((X.T)*X))*(X.T)*Y\n",
        "Yestimada=Theta[0,0]+Theta[1,0]*x1\n",
        "print(\"Los valores calculados para la regresión lineal de la resistencia son con: Tetha0 = {}, y Tetha1 = {}\".format(Theta[0],Theta[1]))\n",
        "#Grafica de la regresión\n",
        "plt.title(\"Regresión lineal con Tetha0=\"+str(Theta[0])+\" y con Tetha1=\"+str(Theta[1]))\n",
        "plt.plot(x1,y)\n",
        "plt.plot(x1,Yestimada)\n",
        "plt.show()"
      ],
      "execution_count": 74,
      "outputs": [
        {
          "output_type": "stream",
          "name": "stdout",
          "text": [
            "Los valores calculados para la regresión lineal de la resistencia son con: Tetha0 = [[0.0467188]], y Tetha1 = [[0.1569703]]\n"
          ]
        },
        {
          "output_type": "display_data",
          "data": {
            "image/png": "[encoded data removed]",
            "text/plain": [
              "<Figure size 432x288 with 1 Axes>"
            ]
          },
          "metadata": {
            "needs_background": "light"
          }
        }
      ]
    },
    {
      "cell_type": "markdown",
      "metadata": {
        "id": "krMyMvN6Y2bE"
      },
      "source": [
        "#Coeficiente de determinación"
      ]
    },
    {
      "cell_type": "code",
      "metadata": {
        "colab": {
          "base_uri": "https://localhost:8080/"
        },
        "id": "jrPRAuMeS30R",
        "outputId": "2770900e-4c3f-433d-9428-e05233a7301a"
      },
      "source": [
        "## Se encuentra el coeficiente de determinación a partir de los parametros\n",
        "y_i=0.0467188+0.1569703*Caracteristicas # valores de Tetha0 y Tetha1 \n",
        "y_p= np.sum(Etiquetas)/len(Etiquetas)\n",
        "SCE= np.sum((Etiquetas-y_i)**2)\n",
        "SCT= np.sum((Etiquetas-y_prom)**2)\n",
        "R_2= 1- SCE/SCT\n",
        "print(\"El coeficiente de determinación es del modelo es:\",R_2)"
      ],
      "execution_count": 70,
      "outputs": [
        {
          "output_type": "stream",
          "name": "stdout",
          "text": [
            "El coeficiente de determinación es del modelo es: 0.9678913146368406\n"
          ]
        }
      ]
    }
  ]
}